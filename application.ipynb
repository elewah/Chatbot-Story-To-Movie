{
 "cells": [
  {
   "cell_type": "code",
   "execution_count": 2,
   "id": "047ab045",
   "metadata": {},
   "outputs": [
    {
     "name": "stdout",
     "output_type": "stream",
     "text": [
      "Chatbot Answer: The movie is Titanic. It is a classic love story set on the ill-fated Titanic ship. The main characters, an aristocrat and a poor artist, fall in love amidst the tragic events of the ship sinking. The movie is a must-see for those who enjoy romance and drama.\n",
      "--------------------------------------------------\n",
      "Exiting the program. Goodbye!\n"
     ]
    }
   ],
   "source": [
    "import numpy as np\n",
    "import pandas as pd\n",
    "import openai\n",
    "import json\n",
    "from openai.embeddings_utils import distances_from_embeddings\n",
    "EMBEDDING_MODEL_NAME = \"text-embedding-ada-002\"\n",
    "COMPLETION_MODEL_NAME = \"gpt-3.5-turbo-instruct\"\n",
    "\n",
    "\n",
    "from dotenv import load_dotenv\n",
    "import os\n",
    "load_dotenv()\n",
    "# Load environment variable\n",
    "OPENAI_API_KEY = os.getenv(\"OPENAI_API_KEY\")\n",
    "\n",
    "\n",
    "import openai\n",
    "openai.api_base = \"https://openai.vocareum.com/v1\"\n",
    "openai.api_key = OPENAI_API_KEY\n",
    "\n",
    "df = pd.read_csv(\"embeddings.csv\", index_col=0)\n",
    "df[\"embeddings\"] = df[\"embeddings\"].apply(eval).apply(np.array)\n",
    "\n",
    "while True:\n",
    "    # Accept user input\n",
    "    USER_QUESTION = input(\"Enter a movie description (or type 'exit' or 'q' to quit): \").strip()\n",
    "    \n",
    "    # Check if the user wants to exit\n",
    "    if USER_QUESTION.lower() in [\"exit\", \"q\"]:\n",
    "        print(\"Exiting the program. Goodbye!\")\n",
    "        break\n",
    "\n",
    "    # Generate the embedding for the user question\n",
    "    response = openai.Embedding.create(\n",
    "        input=USER_QUESTION,\n",
    "        engine=EMBEDDING_MODEL_NAME\n",
    "    )\n",
    "\n",
    "    # Extract the embeddings from the response\n",
    "    question_embeddings = response[\"data\"][0][\"embedding\"]\n",
    "\n",
    "    # Calculate distances between the question embedding and dataset embeddings\n",
    "    distances = distances_from_embeddings(\n",
    "        question_embeddings,\n",
    "        df[\"embeddings\"],\n",
    "        distance_metric=\"cosine\"\n",
    "    )\n",
    "\n",
    "    # Add distances to the dataframe and sort by relevance\n",
    "    df[\"distances\"] = distances\n",
    "    df.sort_values(by=\"distances\", ascending=True, inplace=True)\n",
    "\n",
    "    # Get the top 3 most relevant movies\n",
    "    df_3movies = df.head(3)\n",
    "    df_3movies_list = df_3movies[[\"Series_Title\", \"Overview\"]].to_dict(orient=\"records\")\n",
    "    df_3movies_list_str = json.dumps(df_3movies_list)\n",
    "\n",
    "    # Create the prompt\n",
    "    prompt_template = f\"\"\"You are a movie recommendation system. You will be given a list of movies and their descriptions. Based on the descriptions, you will recommend the best movie that matches the user's question.\n",
    "    The user question is: {USER_QUESTION}  \n",
    "    The list of movies and their descriptions is: {df_3movies_list_str}\n",
    "    you answer the question by giving the name of the movie and a short description of it.\n",
    "    Answer:\"\"\"\n",
    "\n",
    "    # Generate the response from the chatbot\n",
    "    response = openai.Completion.create(\n",
    "        model=COMPLETION_MODEL_NAME,\n",
    "        prompt=prompt_template,\n",
    "        max_tokens=1000\n",
    "    )\n",
    "    answer = response[\"choices\"][0][\"text\"].strip()\n",
    "\n",
    "    # Print the chatbot's answer\n",
    "    print(f\"Chatbot Answer: {answer}\")\n",
    "    print(\"-\" * 50)\n"
   ]
  }
 ],
 "metadata": {
  "kernelspec": {
   "display_name": "Python 3",
   "language": "python",
   "name": "python3"
  },
  "language_info": {
   "codemirror_mode": {
    "name": "ipython",
    "version": 3
   },
   "file_extension": ".py",
   "mimetype": "text/x-python",
   "name": "python",
   "nbconvert_exporter": "python",
   "pygments_lexer": "ipython3",
   "version": "3.13.2"
  }
 },
 "nbformat": 4,
 "nbformat_minor": 5
}
